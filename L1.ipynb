{
  "nbformat": 4,
  "nbformat_minor": 0,
  "metadata": {
    "kernelspec": {
      "display_name": "Python 3",
      "language": "python",
      "name": "python3"
    },
    "language_info": {
      "codemirror_mode": {
        "name": "ipython",
        "version": 3
      },
      "file_extension": ".py",
      "mimetype": "text/x-python",
      "name": "python",
      "nbconvert_exporter": "python",
      "pygments_lexer": "ipython3",
      "version": "3.6.3"
    },
    "colab": {
      "name": "L1",
      "provenance": [],
      "collapsed_sections": [],
      "toc_visible": true,
      "include_colab_link": true
    }
  },
  "cells": [
    {
      "cell_type": "markdown",
      "metadata": {
        "id": "view-in-github",
        "colab_type": "text"
      },
      "source": [
        "<a href=\"https://colab.research.google.com/github/KGuzikowski/evolutionary_algorithms_uwr/blob/main/L1.ipynb\" target=\"_parent\"><img src=\"https://colab.research.google.com/assets/colab-badge.svg\" alt=\"Open In Colab\"/></a>"
      ]
    },
    {
      "cell_type": "code",
      "metadata": {
        "collapsed": true,
        "id": "FHOhqwZlRIYW"
      },
      "source": [
        "import numpy as np\n",
        "import pandas as pd\n",
        "import matplotlib.pyplot as plt\n",
        "import time\n",
        "import urllib.request\n",
        "import tqdm\n",
        "\n",
        "%matplotlib inline"
      ],
      "execution_count": 223,
      "outputs": []
    },
    {
      "cell_type": "markdown",
      "metadata": {
        "id": "ZRkzC6DGdiKG"
      },
      "source": [
        "# Task 1"
      ]
    },
    {
      "cell_type": "markdown",
      "metadata": {
        "id": "olvYTm9YRIYR"
      },
      "source": [
        "## Simulated Annealing Demo\n",
        "\n",
        "Skrypt przedstawia przykładową implementację algorytmu symulowanego wyżarzania (ang. Simulated Annealing, SA) i jego zastosowanie do rozwiązywania problemu Quadratic Assignment Problem (QAP). Problem jest dokładnie opisany m.in. w pracy Burkarda i innych [1]. Popularne instancje problemu QAP można znaleźć w bibliotece QAPLib [2]. Skrypt skupia się na rozwiązywaniu instancji NUG12 [3], w celu rozwiązywania innych instancji może okazać się konieczna zmiana ustawień parametrów algorytmu.\n",
        "\n",
        "Literatura:\n",
        "\n",
        "[1]  Burkard, R., Cela, E., Pardalos, P., Pitsoulis, L., \"The Quadratic Assignment Problem\", http://citeseerx.ist.psu.edu/viewdoc/summary?doi=10.1.1.217.1914\n",
        "\n",
        "[2] QAPLIB, http://anjos.mgi.polymtl.ca/qaplib/\n",
        "\n",
        "[3] NUG12, http://anjos.mgi.polymtl.ca/qaplib/data.d/nug12.dat"
      ]
    },
    {
      "cell_type": "raw",
      "metadata": {
        "id": "mWGthGhaRIYU"
      },
      "source": [
        "# Popularne instancje QAP wraz z dokładnym minimum funkcji celu\n",
        "   Nug12   12    578 (OPT)    (12,7,9,3,4,8,11,1,5,6,10,2)                 \n",
        "   Nug14   14   1014 (OPT)    (9,8,13,2,1,11,7,14,3,4,12,5,6,10)            \n",
        "   Nug15   15   1150 (OPT)    (1,2,13,8,9,4,3,14,7,11,10,15,6,5,12)          \n",
        "   Nug16a  16   1610 (OPT)    (9,14,2,15,16,3,10,12,8,11,6,5,7,1,4,13)      \n",
        "   Nug16b  16   1240 (OPT)    (16,12,13,8,4,2,9,11,15,10,7,3,14,6,1,5)       \n",
        "   Nug17   17   1732 (OPT)    (16,15,2,14,9,11,8,12,10,3,4,1,7,6,13,17,5)       \n",
        "   Nug18   18   1930 (OPT)    (10,3,14,2,18,6,7,12,15,4,5,1,11,8,17,13,9,16)     \n",
        "   Nug20   20   2570 (OPT)    (18,14,10,3,9,4,2,12,11,16,19,15,20,8,13,17,5,7,1,6)\n",
        "   Nug21   21   2438 (OPT)    (4,21,3,9,13,2,5,14,18,11,16,10,6,15,20,19,8,7,1,12,17) \n",
        "   Nug22   22   3596 (OPT)    (2,21,9,10,7,3,1,19,8,20,17,5,13,6,12,16,11,22,18,14,15) \n",
        "   Nug24   24   3488 (OPT)    (17,8,11,23,4,20,15,19,22,18,3,14,1,10,7,9,16,21,24,12,6,13,5,2)\n",
        "   Nug25   25   3744 (OPT)    (5,11,20,15,22,2,25,8,9,1,18,16,3,6,19,24,21,14,7,10,17,12,4,23,13)\n",
        "*  Nug27   27   5234 (OPT)    (23,18,3,1,27,17,5,12,7,15,4,26,8,19,20,2,24,21,14,10,9,13,22,25,6,16,11)\n",
        "*  Nug28   28   5166 (OPT)    (18,21,9,1,28,20,11,3,13,12,10,19,14,22,15,2,25,16,4,23,7,17,24,26,5,27,8,6)\n",
        "*  Nug30   30   6124 (OPT)    (5 12 6 13 2 21 26 24 10 9 29 28 17 1 8 7 19 25 23 22 11 16 30 4 15 18 27 3 14 20)   "
      ]
    },
    {
      "cell_type": "code",
      "metadata": {
        "collapsed": true,
        "id": "PqwdqfzZRIYX"
      },
      "source": [
        "QAP_INSTANCE_URL = 'http://anjos.mgi.polymtl.ca/qaplib/data.d/nug12.dat'"
      ],
      "execution_count": 2,
      "outputs": []
    },
    {
      "cell_type": "markdown",
      "metadata": {
        "id": "0AWdSWm4RIYY"
      },
      "source": [
        "## Reading input data"
      ]
    },
    {
      "cell_type": "code",
      "metadata": {
        "colab": {
          "base_uri": "https://localhost:8080/",
          "height": 374
        },
        "id": "fTmmutPnRIYY",
        "outputId": "07129b29-3e56-4594-c532-1f01f93e70c9"
      },
      "source": [
        "qap_instance_file = urllib.request.urlopen(QAP_INSTANCE_URL)\n",
        "\n",
        "line = qap_instance_file.readline()\n",
        "n = int(line.decode()[:-1].split()[0])\n",
        "print('Problem size: %d' % n)\n",
        "\n",
        "A = np.empty((n, n))\n",
        "qap_instance_file.readline()\n",
        "for i in range(n):\n",
        "    line = qap_instance_file.readline()\n",
        "    A[i, :] = list(map(int, line.decode()[:-1].split()))\n",
        "print('Flow matrix:\\n', A)\n",
        "\n",
        "B = np.empty((n, n))\n",
        "qap_instance_file.readline()\n",
        "for i in range(n):\n",
        "    line = qap_instance_file.readline()\n",
        "    B[i, :] = list(map(int, line.decode()[:-1].split()))\n",
        "print('Distance matrix:\\n', B)"
      ],
      "execution_count": 3,
      "outputs": [
        {
          "output_type": "error",
          "ename": "HTTPError",
          "evalue": "ignored",
          "traceback": [
            "\u001b[0;31m---------------------------------------------------------------------------\u001b[0m",
            "\u001b[0;31mHTTPError\u001b[0m                                 Traceback (most recent call last)",
            "\u001b[0;32m<ipython-input-3-f439becec1f9>\u001b[0m in \u001b[0;36m<module>\u001b[0;34m()\u001b[0m\n\u001b[0;32m----> 1\u001b[0;31m \u001b[0mqap_instance_file\u001b[0m \u001b[0;34m=\u001b[0m \u001b[0murllib\u001b[0m\u001b[0;34m.\u001b[0m\u001b[0mrequest\u001b[0m\u001b[0;34m.\u001b[0m\u001b[0murlopen\u001b[0m\u001b[0;34m(\u001b[0m\u001b[0mQAP_INSTANCE_URL\u001b[0m\u001b[0;34m)\u001b[0m\u001b[0;34m\u001b[0m\u001b[0;34m\u001b[0m\u001b[0m\n\u001b[0m\u001b[1;32m      2\u001b[0m \u001b[0;34m\u001b[0m\u001b[0m\n\u001b[1;32m      3\u001b[0m \u001b[0mline\u001b[0m \u001b[0;34m=\u001b[0m \u001b[0mqap_instance_file\u001b[0m\u001b[0;34m.\u001b[0m\u001b[0mreadline\u001b[0m\u001b[0;34m(\u001b[0m\u001b[0;34m)\u001b[0m\u001b[0;34m\u001b[0m\u001b[0;34m\u001b[0m\u001b[0m\n\u001b[1;32m      4\u001b[0m \u001b[0mn\u001b[0m \u001b[0;34m=\u001b[0m \u001b[0mint\u001b[0m\u001b[0;34m(\u001b[0m\u001b[0mline\u001b[0m\u001b[0;34m.\u001b[0m\u001b[0mdecode\u001b[0m\u001b[0;34m(\u001b[0m\u001b[0;34m)\u001b[0m\u001b[0;34m[\u001b[0m\u001b[0;34m:\u001b[0m\u001b[0;34m-\u001b[0m\u001b[0;36m1\u001b[0m\u001b[0;34m]\u001b[0m\u001b[0;34m.\u001b[0m\u001b[0msplit\u001b[0m\u001b[0;34m(\u001b[0m\u001b[0;34m)\u001b[0m\u001b[0;34m[\u001b[0m\u001b[0;36m0\u001b[0m\u001b[0;34m]\u001b[0m\u001b[0;34m)\u001b[0m\u001b[0;34m\u001b[0m\u001b[0;34m\u001b[0m\u001b[0m\n\u001b[1;32m      5\u001b[0m \u001b[0mprint\u001b[0m\u001b[0;34m(\u001b[0m\u001b[0;34m'Problem size: %d'\u001b[0m \u001b[0;34m%\u001b[0m \u001b[0mn\u001b[0m\u001b[0;34m)\u001b[0m\u001b[0;34m\u001b[0m\u001b[0;34m\u001b[0m\u001b[0m\n",
            "\u001b[0;32m/usr/lib/python3.7/urllib/request.py\u001b[0m in \u001b[0;36murlopen\u001b[0;34m(url, data, timeout, cafile, capath, cadefault, context)\u001b[0m\n\u001b[1;32m    220\u001b[0m     \u001b[0;32melse\u001b[0m\u001b[0;34m:\u001b[0m\u001b[0;34m\u001b[0m\u001b[0;34m\u001b[0m\u001b[0m\n\u001b[1;32m    221\u001b[0m         \u001b[0mopener\u001b[0m \u001b[0;34m=\u001b[0m \u001b[0m_opener\u001b[0m\u001b[0;34m\u001b[0m\u001b[0;34m\u001b[0m\u001b[0m\n\u001b[0;32m--> 222\u001b[0;31m     \u001b[0;32mreturn\u001b[0m \u001b[0mopener\u001b[0m\u001b[0;34m.\u001b[0m\u001b[0mopen\u001b[0m\u001b[0;34m(\u001b[0m\u001b[0murl\u001b[0m\u001b[0;34m,\u001b[0m \u001b[0mdata\u001b[0m\u001b[0;34m,\u001b[0m \u001b[0mtimeout\u001b[0m\u001b[0;34m)\u001b[0m\u001b[0;34m\u001b[0m\u001b[0;34m\u001b[0m\u001b[0m\n\u001b[0m\u001b[1;32m    223\u001b[0m \u001b[0;34m\u001b[0m\u001b[0m\n\u001b[1;32m    224\u001b[0m \u001b[0;32mdef\u001b[0m \u001b[0minstall_opener\u001b[0m\u001b[0;34m(\u001b[0m\u001b[0mopener\u001b[0m\u001b[0;34m)\u001b[0m\u001b[0;34m:\u001b[0m\u001b[0;34m\u001b[0m\u001b[0;34m\u001b[0m\u001b[0m\n",
            "\u001b[0;32m/usr/lib/python3.7/urllib/request.py\u001b[0m in \u001b[0;36mopen\u001b[0;34m(self, fullurl, data, timeout)\u001b[0m\n\u001b[1;32m    529\u001b[0m         \u001b[0;32mfor\u001b[0m \u001b[0mprocessor\u001b[0m \u001b[0;32min\u001b[0m \u001b[0mself\u001b[0m\u001b[0;34m.\u001b[0m\u001b[0mprocess_response\u001b[0m\u001b[0;34m.\u001b[0m\u001b[0mget\u001b[0m\u001b[0;34m(\u001b[0m\u001b[0mprotocol\u001b[0m\u001b[0;34m,\u001b[0m \u001b[0;34m[\u001b[0m\u001b[0;34m]\u001b[0m\u001b[0;34m)\u001b[0m\u001b[0;34m:\u001b[0m\u001b[0;34m\u001b[0m\u001b[0;34m\u001b[0m\u001b[0m\n\u001b[1;32m    530\u001b[0m             \u001b[0mmeth\u001b[0m \u001b[0;34m=\u001b[0m \u001b[0mgetattr\u001b[0m\u001b[0;34m(\u001b[0m\u001b[0mprocessor\u001b[0m\u001b[0;34m,\u001b[0m \u001b[0mmeth_name\u001b[0m\u001b[0;34m)\u001b[0m\u001b[0;34m\u001b[0m\u001b[0;34m\u001b[0m\u001b[0m\n\u001b[0;32m--> 531\u001b[0;31m             \u001b[0mresponse\u001b[0m \u001b[0;34m=\u001b[0m \u001b[0mmeth\u001b[0m\u001b[0;34m(\u001b[0m\u001b[0mreq\u001b[0m\u001b[0;34m,\u001b[0m \u001b[0mresponse\u001b[0m\u001b[0;34m)\u001b[0m\u001b[0;34m\u001b[0m\u001b[0;34m\u001b[0m\u001b[0m\n\u001b[0m\u001b[1;32m    532\u001b[0m \u001b[0;34m\u001b[0m\u001b[0m\n\u001b[1;32m    533\u001b[0m         \u001b[0;32mreturn\u001b[0m \u001b[0mresponse\u001b[0m\u001b[0;34m\u001b[0m\u001b[0;34m\u001b[0m\u001b[0m\n",
            "\u001b[0;32m/usr/lib/python3.7/urllib/request.py\u001b[0m in \u001b[0;36mhttp_response\u001b[0;34m(self, request, response)\u001b[0m\n\u001b[1;32m    639\u001b[0m         \u001b[0;32mif\u001b[0m \u001b[0;32mnot\u001b[0m \u001b[0;34m(\u001b[0m\u001b[0;36m200\u001b[0m \u001b[0;34m<=\u001b[0m \u001b[0mcode\u001b[0m \u001b[0;34m<\u001b[0m \u001b[0;36m300\u001b[0m\u001b[0;34m)\u001b[0m\u001b[0;34m:\u001b[0m\u001b[0;34m\u001b[0m\u001b[0;34m\u001b[0m\u001b[0m\n\u001b[1;32m    640\u001b[0m             response = self.parent.error(\n\u001b[0;32m--> 641\u001b[0;31m                 'http', request, response, code, msg, hdrs)\n\u001b[0m\u001b[1;32m    642\u001b[0m \u001b[0;34m\u001b[0m\u001b[0m\n\u001b[1;32m    643\u001b[0m         \u001b[0;32mreturn\u001b[0m \u001b[0mresponse\u001b[0m\u001b[0;34m\u001b[0m\u001b[0;34m\u001b[0m\u001b[0m\n",
            "\u001b[0;32m/usr/lib/python3.7/urllib/request.py\u001b[0m in \u001b[0;36merror\u001b[0;34m(self, proto, *args)\u001b[0m\n\u001b[1;32m    567\u001b[0m         \u001b[0;32mif\u001b[0m \u001b[0mhttp_err\u001b[0m\u001b[0;34m:\u001b[0m\u001b[0;34m\u001b[0m\u001b[0;34m\u001b[0m\u001b[0m\n\u001b[1;32m    568\u001b[0m             \u001b[0margs\u001b[0m \u001b[0;34m=\u001b[0m \u001b[0;34m(\u001b[0m\u001b[0mdict\u001b[0m\u001b[0;34m,\u001b[0m \u001b[0;34m'default'\u001b[0m\u001b[0;34m,\u001b[0m \u001b[0;34m'http_error_default'\u001b[0m\u001b[0;34m)\u001b[0m \u001b[0;34m+\u001b[0m \u001b[0morig_args\u001b[0m\u001b[0;34m\u001b[0m\u001b[0;34m\u001b[0m\u001b[0m\n\u001b[0;32m--> 569\u001b[0;31m             \u001b[0;32mreturn\u001b[0m \u001b[0mself\u001b[0m\u001b[0;34m.\u001b[0m\u001b[0m_call_chain\u001b[0m\u001b[0;34m(\u001b[0m\u001b[0;34m*\u001b[0m\u001b[0margs\u001b[0m\u001b[0;34m)\u001b[0m\u001b[0;34m\u001b[0m\u001b[0;34m\u001b[0m\u001b[0m\n\u001b[0m\u001b[1;32m    570\u001b[0m \u001b[0;34m\u001b[0m\u001b[0m\n\u001b[1;32m    571\u001b[0m \u001b[0;31m# XXX probably also want an abstract factory that knows when it makes\u001b[0m\u001b[0;34m\u001b[0m\u001b[0;34m\u001b[0m\u001b[0;34m\u001b[0m\u001b[0m\n",
            "\u001b[0;32m/usr/lib/python3.7/urllib/request.py\u001b[0m in \u001b[0;36m_call_chain\u001b[0;34m(self, chain, kind, meth_name, *args)\u001b[0m\n\u001b[1;32m    501\u001b[0m         \u001b[0;32mfor\u001b[0m \u001b[0mhandler\u001b[0m \u001b[0;32min\u001b[0m \u001b[0mhandlers\u001b[0m\u001b[0;34m:\u001b[0m\u001b[0;34m\u001b[0m\u001b[0;34m\u001b[0m\u001b[0m\n\u001b[1;32m    502\u001b[0m             \u001b[0mfunc\u001b[0m \u001b[0;34m=\u001b[0m \u001b[0mgetattr\u001b[0m\u001b[0;34m(\u001b[0m\u001b[0mhandler\u001b[0m\u001b[0;34m,\u001b[0m \u001b[0mmeth_name\u001b[0m\u001b[0;34m)\u001b[0m\u001b[0;34m\u001b[0m\u001b[0;34m\u001b[0m\u001b[0m\n\u001b[0;32m--> 503\u001b[0;31m             \u001b[0mresult\u001b[0m \u001b[0;34m=\u001b[0m \u001b[0mfunc\u001b[0m\u001b[0;34m(\u001b[0m\u001b[0;34m*\u001b[0m\u001b[0margs\u001b[0m\u001b[0;34m)\u001b[0m\u001b[0;34m\u001b[0m\u001b[0;34m\u001b[0m\u001b[0m\n\u001b[0m\u001b[1;32m    504\u001b[0m             \u001b[0;32mif\u001b[0m \u001b[0mresult\u001b[0m \u001b[0;32mis\u001b[0m \u001b[0;32mnot\u001b[0m \u001b[0;32mNone\u001b[0m\u001b[0;34m:\u001b[0m\u001b[0;34m\u001b[0m\u001b[0;34m\u001b[0m\u001b[0m\n\u001b[1;32m    505\u001b[0m                 \u001b[0;32mreturn\u001b[0m \u001b[0mresult\u001b[0m\u001b[0;34m\u001b[0m\u001b[0;34m\u001b[0m\u001b[0m\n",
            "\u001b[0;32m/usr/lib/python3.7/urllib/request.py\u001b[0m in \u001b[0;36mhttp_error_default\u001b[0;34m(self, req, fp, code, msg, hdrs)\u001b[0m\n\u001b[1;32m    647\u001b[0m \u001b[0;32mclass\u001b[0m \u001b[0mHTTPDefaultErrorHandler\u001b[0m\u001b[0;34m(\u001b[0m\u001b[0mBaseHandler\u001b[0m\u001b[0;34m)\u001b[0m\u001b[0;34m:\u001b[0m\u001b[0;34m\u001b[0m\u001b[0;34m\u001b[0m\u001b[0m\n\u001b[1;32m    648\u001b[0m     \u001b[0;32mdef\u001b[0m \u001b[0mhttp_error_default\u001b[0m\u001b[0;34m(\u001b[0m\u001b[0mself\u001b[0m\u001b[0;34m,\u001b[0m \u001b[0mreq\u001b[0m\u001b[0;34m,\u001b[0m \u001b[0mfp\u001b[0m\u001b[0;34m,\u001b[0m \u001b[0mcode\u001b[0m\u001b[0;34m,\u001b[0m \u001b[0mmsg\u001b[0m\u001b[0;34m,\u001b[0m \u001b[0mhdrs\u001b[0m\u001b[0;34m)\u001b[0m\u001b[0;34m:\u001b[0m\u001b[0;34m\u001b[0m\u001b[0;34m\u001b[0m\u001b[0m\n\u001b[0;32m--> 649\u001b[0;31m         \u001b[0;32mraise\u001b[0m \u001b[0mHTTPError\u001b[0m\u001b[0;34m(\u001b[0m\u001b[0mreq\u001b[0m\u001b[0;34m.\u001b[0m\u001b[0mfull_url\u001b[0m\u001b[0;34m,\u001b[0m \u001b[0mcode\u001b[0m\u001b[0;34m,\u001b[0m \u001b[0mmsg\u001b[0m\u001b[0;34m,\u001b[0m \u001b[0mhdrs\u001b[0m\u001b[0;34m,\u001b[0m \u001b[0mfp\u001b[0m\u001b[0;34m)\u001b[0m\u001b[0;34m\u001b[0m\u001b[0;34m\u001b[0m\u001b[0m\n\u001b[0m\u001b[1;32m    650\u001b[0m \u001b[0;34m\u001b[0m\u001b[0m\n\u001b[1;32m    651\u001b[0m \u001b[0;32mclass\u001b[0m \u001b[0mHTTPRedirectHandler\u001b[0m\u001b[0;34m(\u001b[0m\u001b[0mBaseHandler\u001b[0m\u001b[0;34m)\u001b[0m\u001b[0;34m:\u001b[0m\u001b[0;34m\u001b[0m\u001b[0;34m\u001b[0m\u001b[0m\n",
            "\u001b[0;31mHTTPError\u001b[0m: HTTP Error 404: Not Found"
          ]
        }
      ]
    },
    {
      "cell_type": "markdown",
      "metadata": {
        "id": "xDkAjY8sRIYZ"
      },
      "source": [
        "## Objective function"
      ]
    },
    {
      "cell_type": "code",
      "metadata": {
        "collapsed": true,
        "id": "iKd8vhCxRIYa"
      },
      "source": [
        "def qap_objective_function(p):\n",
        "    s = 0.0\n",
        "    for i in range(n):\n",
        "        s += (A[i, :] * B[p[i], p]).sum()\n",
        "    return s"
      ],
      "execution_count": null,
      "outputs": []
    },
    {
      "cell_type": "code",
      "metadata": {
        "id": "yl_ZjyKoRIYa",
        "outputId": "64f2b883-b7ce-4327-bd3d-387d0019833f"
      },
      "source": [
        "p = [11, 6, 8, 2, 3, 7, 10, 0, 4, 5, 9, 1]\n",
        "print(qap_objective_function(p), p)"
      ],
      "execution_count": null,
      "outputs": [
        {
          "name": "stdout",
          "output_type": "stream",
          "text": [
            "578.0 [11, 6, 8, 2, 3, 7, 10, 0, 4, 5, 9, 1]\n"
          ]
        }
      ]
    },
    {
      "cell_type": "markdown",
      "metadata": {
        "id": "W33fqr1VRIYb"
      },
      "source": [
        "## Random Sampling"
      ]
    },
    {
      "cell_type": "code",
      "metadata": {
        "id": "aTbvogWaRIYb",
        "outputId": "dfbfef58-aec7-42ec-aafb-4e9473ae4612"
      },
      "source": [
        "t0 = time.time()\n",
        "\n",
        "T = 1000000\n",
        "\n",
        "permutations = np.empty((T, n), dtype=np.int64)\n",
        "costs = np.zeros(T)\n",
        "for i in range(T):\n",
        "    permutations[i, :] = np.random.permutation(n)\n",
        "    costs[i] = qap_objective_function(permutations[i, :])\n",
        "\n",
        "print(time.time() - t0)\n",
        "\n",
        "p = permutations[costs.argmin(), :]\n",
        "print(qap_objective_function(p), p)"
      ],
      "execution_count": null,
      "outputs": [
        {
          "name": "stdout",
          "output_type": "stream",
          "text": [
            "62.258999824523926\n",
            "604.0 [ 7  6 11  0  3 10  8  2  4  5  9  1]\n"
          ]
        }
      ]
    },
    {
      "cell_type": "code",
      "metadata": {
        "id": "FbQC_4VeRIYb",
        "outputId": "ad101098-26c1-4ec4-a8e9-10442bf079b8"
      },
      "source": [
        "plt.figure()\n",
        "plt.hist(costs, bins=100)\n",
        "plt.show()\n",
        "\n",
        "print(costs.mean(), costs.std())"
      ],
      "execution_count": null,
      "outputs": [
        {
          "data": {
            "image/png": "[encoded data removed]",
            "text/plain": [
              "<matplotlib.figure.Figure at 0x8bb7198>"
            ]
          },
          "metadata": {},
          "output_type": "display_data"
        },
        {
          "name": "stdout",
          "output_type": "stream",
          "text": [
            "811.921768 49.7013396173\n"
          ]
        }
      ]
    },
    {
      "cell_type": "markdown",
      "metadata": {
        "id": "Hbf2MOmjRIYc"
      },
      "source": [
        "## Simulated Annealing"
      ]
    },
    {
      "cell_type": "code",
      "metadata": {
        "collapsed": true,
        "id": "zPyfiJQTRIYc"
      },
      "source": [
        "def random_neighbor(p, radius):\n",
        "    q = p.copy()\n",
        "    for r in range(radius):\n",
        "        i, j = np.random.choice(n, 2, replace=False)\n",
        "        q[i], q[j] = q[j], q[i]\n",
        "    return q"
      ],
      "execution_count": null,
      "outputs": []
    },
    {
      "cell_type": "code",
      "metadata": {
        "id": "EkuHEX2rRIYc",
        "outputId": "880b7b5f-53e1-4181-ef66-9e7011a46c83"
      },
      "source": [
        "T = 500000\n",
        "radius = 1\n",
        "alpha = 1.0\n",
        "\n",
        "t0 = time.time()\n",
        "\n",
        "p = np.random.permutation(n)\n",
        "p_cost = qap_objective_function(p)\n",
        "costs = np.zeros(T)\n",
        "for t in range(T):\n",
        "    q = random_neighbor(p, radius)\n",
        "    q_cost = qap_objective_function(q)\n",
        "    if(q_cost < p_cost):\n",
        "        p, p_cost = q, q_cost\n",
        "    elif(np.random.rand() < np.exp(- alpha * (q_cost - p_cost) * t/T)):\n",
        "        p, p_cost = q, q_cost\n",
        "    costs[t] = p_cost\n",
        "\n",
        "print(time.time() - t0, costs.min())"
      ],
      "execution_count": null,
      "outputs": [
        {
          "name": "stdout",
          "output_type": "stream",
          "text": [
            "45.28400015830994 578.0\n"
          ]
        }
      ]
    },
    {
      "cell_type": "code",
      "metadata": {
        "id": "dkqCRRLGRIYd",
        "outputId": "a971ca1b-a703-4baf-ea6d-c403c6d244cd"
      },
      "source": [
        "plt.figure()\n",
        "plt.plot(costs)\n",
        "plt.show()"
      ],
      "execution_count": null,
      "outputs": [
        {
          "data": {
            "image/png": "[encoded data removed]",
            "text/plain": [
              "<matplotlib.figure.Figure at 0x8b34be0>"
            ]
          },
          "metadata": {},
          "output_type": "display_data"
        }
      ]
    },
    {
      "cell_type": "markdown",
      "metadata": {
        "id": "j1XhQMXqdk14"
      },
      "source": [
        "# Task 2"
      ]
    },
    {
      "cell_type": "markdown",
      "metadata": {
        "id": "jlq4ByWwixWT"
      },
      "source": [
        "## PBIL implementation"
      ]
    },
    {
      "cell_type": "code",
      "metadata": {
        "id": "D9YxzeCfdlky"
      },
      "source": [
        "from numpy.random import default_rng\n",
        "rng = default_rng()\n",
        "\n",
        "def binary_random(p):\n",
        "    if rng.uniform() < p:\n",
        "        return 1\n",
        "    else:\n",
        "        return 0\n",
        "\n",
        "def random_individual(p, d):\n",
        "    v = []\n",
        "    for i in range(d):\n",
        "        v.append(binary_random(p[i]))\n",
        "    \n",
        "    return v\n",
        "\n",
        "def random_population(p, N, d):\n",
        "    P = []\n",
        "    for _ in range(N):\n",
        "        P.append(random_individual(p, d))\n",
        "\n",
        "    return np.array(P)\n",
        "\n",
        "def population_evaluation(target, population, d, N, score_func, k=None):\n",
        "    target_score = score_func(target)\n",
        "    scores = np.array(list(map(score_func, population)))\n",
        "\n",
        "    # score = 0\n",
        "\n",
        "    # for i in range(N):\n",
        "    #     diff = np.abs(target_score - scores[i])\n",
        "    #     score += (d - diff) / d\n",
        "\n",
        "    # return score / N\n",
        "    correct = 0\n",
        "\n",
        "    for score in scores:\n",
        "        if score == target_score:\n",
        "            correct += 1\n",
        "\n",
        "    return correct / N\n",
        "\n",
        "def termination_condition(score):\n",
        "    return score >= 0.80\n",
        "\n",
        "def get_best_individual(target, population, N, score_func, k=None):\n",
        "    target_score = score_func(target)\n",
        "    scores = np.array(list(map(score_func, population)))\n",
        "    min = np.inf\n",
        "    best = None\n",
        "\n",
        "    for i in range(N):\n",
        "        if scores[i] == target_score:\n",
        "            return population[i]\n",
        "        diff = np.abs(target_score - scores[i])\n",
        "        if diff < min:\n",
        "            min = diff\n",
        "            best = population[i]\n",
        "    \n",
        "    return best\n",
        "\n",
        "def PBIL(target, d, N, lr, mutation_ppb, mutation_dist, score_func, k=None):\n",
        "    \"\"\"\n",
        "    d - chromosome size\n",
        "    N - population size\n",
        "    \"\"\"\n",
        "    p = np.full(d, 0.5, dtype=np.float32)\n",
        "    population = random_population(p, N, d)\n",
        "\n",
        "    population_score = population_evaluation(target, population, d, N, score_func, k)\n",
        "    # print('population_score', population_score)\n",
        "    steps = 0\n",
        "    while not termination_condition(population_score):\n",
        "        # print('population_score', population_score)\n",
        "        best_individual = get_best_individual(target, population, N, score_func, k)\n",
        "        # print('best_individual', best_individual)\n",
        "\n",
        "        for i in range(d):\n",
        "            p[i] = p[i]*(1 - lr) + best_individual[i]*lr\n",
        "\n",
        "        for i in range(d):\n",
        "            if rng.uniform() < mutation_ppb:\n",
        "                p[i] = p[i]*(1 - mutation_dist) + binary_random(0.5)*mutation_dist\n",
        "\n",
        "        population = random_population(p, N, d)\n",
        "        population_score = population_evaluation(target, population, d, N, score_func, k)\n",
        "        steps += 1\n",
        "    # print('population_score', population_score)\n",
        "\n",
        "    return get_best_individual(target, population, N, score_func), population_score, steps"
      ],
      "execution_count": 224,
      "outputs": []
    },
    {
      "cell_type": "code",
      "metadata": {
        "id": "SFL6HEqI39Dq"
      },
      "source": [
        "def OneMax(p):\n",
        "    return p.sum()\n",
        "\n",
        "def DeceptiveOneMax(p):\n",
        "    if np.all((p == 0)):\n",
        "        return p.shape[0] + 1\n",
        "    return p.sum()\n",
        "\n",
        "def KDeceptiveOneMax(p, k=2):\n",
        "    sum = 0\n",
        "    i = 0\n",
        "\n",
        "    while i < p.shape[0]:\n",
        "        sum += DeceptiveOneMax(p[i:i+k])\n",
        "        i = i+k\n",
        "\n",
        "    return sum"
      ],
      "execution_count": 225,
      "outputs": []
    },
    {
      "cell_type": "code",
      "metadata": {
        "colab": {
          "base_uri": "https://localhost:8080/"
        },
        "id": "1Hlz5OXWajCh",
        "outputId": "1ec84a19-0fb6-44f7-8593-85b4a163665c"
      },
      "source": [
        "from itertools import product\n",
        "from time import time\n",
        "\n",
        "N_l = [3, 4, 5, 6, 8]\n",
        "lr_l = [0.01, 0.05, 0.1, 0.5]\n",
        "mutation_ppb_l = [0.01, 0.05, 0.1, 0.5]\n",
        "mutation_dist_l = [0.01, 0.05, 0.1, 0.5]\n",
        "score_func_l = [OneMax, DeceptiveOneMax, KDeceptiveOneMax]\n",
        "k_l = [2, 4, 6]\n",
        "\n",
        "ones = 8\n",
        "zeros = 4\n",
        "target = np.array([1] * ones + [0] * zeros)\n",
        "np.random.shuffle(target)\n",
        "target\n",
        "results = []\n",
        "\n",
        "start = time()\n",
        "\n",
        "for N, lr, mutation_ppb, mutation_dist, score_func in product(N_l, lr_l, mutation_ppb_l, mutation_dist_l, score_func_l):\n",
        "    if score_func.__name__ == 'KDeceptiveOneMax':\n",
        "        for k in k_l:\n",
        "            res, population_score, steps = PBIL(target, target.shape[0], N, lr, mutation_ppb, mutation_dist, score_func, k)\n",
        "            results.append({\n",
        "                'N': N,\n",
        "                'lr': lr,\n",
        "                'mutation_ppb': mutation_ppb,\n",
        "                'mutation_dist': mutation_dist,\n",
        "                'score_func': score_func.__name__,\n",
        "                'k': k,\n",
        "                'population_score': population_score,\n",
        "                'steps': steps,\n",
        "                'result': res,\n",
        "\n",
        "            })\n",
        "    else:\n",
        "        res, population_score, steps = PBIL(target, target.shape[0], N, lr, mutation_ppb, mutation_dist, score_func)\n",
        "        results.append({\n",
        "            'N': N,\n",
        "            'lr': lr,\n",
        "            'mutation_ppb': mutation_ppb,\n",
        "            'mutation_dist': mutation_dist,\n",
        "            'score_func': score_func.__name__,\n",
        "            'k': None,\n",
        "            'population_score': population_score,\n",
        "            'steps': steps,\n",
        "            'result': res,\n",
        "        })\n",
        "\n",
        "end = time()\n",
        "print(\"It took\", end - start)"
      ],
      "execution_count": 221,
      "outputs": [
        {
          "output_type": "stream",
          "name": "stdout",
          "text": [
            "It took 9460.51943731308\n"
          ]
        }
      ]
    },
    {
      "cell_type": "code",
      "metadata": {
        "colab": {
          "base_uri": "https://localhost:8080/",
          "height": 419
        },
        "id": "QrRGpFLxnCkc",
        "outputId": "70a20a4b-7903-4804-bf53-8d6d7d822e66"
      },
      "source": [
        "df = pd.DataFrame(results)\n",
        "df"
      ],
      "execution_count": 227,
      "outputs": [
        {
          "output_type": "execute_result",
          "data": {
            "text/html": [
              "<div>\n",
              "<style scoped>\n",
              "    .dataframe tbody tr th:only-of-type {\n",
              "        vertical-align: middle;\n",
              "    }\n",
              "\n",
              "    .dataframe tbody tr th {\n",
              "        vertical-align: top;\n",
              "    }\n",
              "\n",
              "    .dataframe thead th {\n",
              "        text-align: right;\n",
              "    }\n",
              "</style>\n",
              "<table border=\"1\" class=\"dataframe\">\n",
              "  <thead>\n",
              "    <tr style=\"text-align: right;\">\n",
              "      <th></th>\n",
              "      <th>N</th>\n",
              "      <th>lr</th>\n",
              "      <th>mutation_ppb</th>\n",
              "      <th>mutation_dist</th>\n",
              "      <th>score_func</th>\n",
              "      <th>k</th>\n",
              "      <th>population_score</th>\n",
              "      <th>steps</th>\n",
              "      <th>result</th>\n",
              "    </tr>\n",
              "  </thead>\n",
              "  <tbody>\n",
              "    <tr>\n",
              "      <th>0</th>\n",
              "      <td>3</td>\n",
              "      <td>0.01</td>\n",
              "      <td>0.01</td>\n",
              "      <td>0.01</td>\n",
              "      <td>OneMax</td>\n",
              "      <td>NaN</td>\n",
              "      <td>1.000</td>\n",
              "      <td>80</td>\n",
              "      <td>[0, 1, 1, 1, 1, 1, 0, 0, 0, 1, 1, 1]</td>\n",
              "    </tr>\n",
              "    <tr>\n",
              "      <th>1</th>\n",
              "      <td>3</td>\n",
              "      <td>0.01</td>\n",
              "      <td>0.01</td>\n",
              "      <td>0.01</td>\n",
              "      <td>DeceptiveOneMax</td>\n",
              "      <td>NaN</td>\n",
              "      <td>1.000</td>\n",
              "      <td>47</td>\n",
              "      <td>[1, 1, 1, 0, 1, 1, 0, 1, 0, 0, 1, 1]</td>\n",
              "    </tr>\n",
              "    <tr>\n",
              "      <th>2</th>\n",
              "      <td>3</td>\n",
              "      <td>0.01</td>\n",
              "      <td>0.01</td>\n",
              "      <td>0.01</td>\n",
              "      <td>KDeceptiveOneMax</td>\n",
              "      <td>2.0</td>\n",
              "      <td>1.000</td>\n",
              "      <td>184</td>\n",
              "      <td>[1, 1, 0, 1, 1, 0, 0, 1, 1, 1, 0, 1]</td>\n",
              "    </tr>\n",
              "    <tr>\n",
              "      <th>3</th>\n",
              "      <td>3</td>\n",
              "      <td>0.01</td>\n",
              "      <td>0.01</td>\n",
              "      <td>0.01</td>\n",
              "      <td>KDeceptiveOneMax</td>\n",
              "      <td>4.0</td>\n",
              "      <td>1.000</td>\n",
              "      <td>886</td>\n",
              "      <td>[0, 1, 1, 0, 1, 1, 1, 1, 1, 0, 0, 1]</td>\n",
              "    </tr>\n",
              "    <tr>\n",
              "      <th>4</th>\n",
              "      <td>3</td>\n",
              "      <td>0.01</td>\n",
              "      <td>0.01</td>\n",
              "      <td>0.01</td>\n",
              "      <td>KDeceptiveOneMax</td>\n",
              "      <td>6.0</td>\n",
              "      <td>1.000</td>\n",
              "      <td>282</td>\n",
              "      <td>[1, 1, 1, 1, 1, 0, 1, 0, 1, 0, 0, 1]</td>\n",
              "    </tr>\n",
              "    <tr>\n",
              "      <th>...</th>\n",
              "      <td>...</td>\n",
              "      <td>...</td>\n",
              "      <td>...</td>\n",
              "      <td>...</td>\n",
              "      <td>...</td>\n",
              "      <td>...</td>\n",
              "      <td>...</td>\n",
              "      <td>...</td>\n",
              "      <td>...</td>\n",
              "    </tr>\n",
              "    <tr>\n",
              "      <th>1595</th>\n",
              "      <td>8</td>\n",
              "      <td>0.50</td>\n",
              "      <td>0.50</td>\n",
              "      <td>0.50</td>\n",
              "      <td>OneMax</td>\n",
              "      <td>NaN</td>\n",
              "      <td>0.875</td>\n",
              "      <td>377</td>\n",
              "      <td>[1, 0, 1, 1, 0, 0, 1, 1, 1, 0, 1, 1]</td>\n",
              "    </tr>\n",
              "    <tr>\n",
              "      <th>1596</th>\n",
              "      <td>8</td>\n",
              "      <td>0.50</td>\n",
              "      <td>0.50</td>\n",
              "      <td>0.50</td>\n",
              "      <td>DeceptiveOneMax</td>\n",
              "      <td>NaN</td>\n",
              "      <td>0.875</td>\n",
              "      <td>77</td>\n",
              "      <td>[0, 0, 0, 0, 1, 1, 1, 1, 1, 1, 1, 1]</td>\n",
              "    </tr>\n",
              "    <tr>\n",
              "      <th>1597</th>\n",
              "      <td>8</td>\n",
              "      <td>0.50</td>\n",
              "      <td>0.50</td>\n",
              "      <td>0.50</td>\n",
              "      <td>KDeceptiveOneMax</td>\n",
              "      <td>2.0</td>\n",
              "      <td>0.875</td>\n",
              "      <td>1455</td>\n",
              "      <td>[1, 1, 1, 0, 0, 1, 0, 1, 1, 1, 1, 0]</td>\n",
              "    </tr>\n",
              "    <tr>\n",
              "      <th>1598</th>\n",
              "      <td>8</td>\n",
              "      <td>0.50</td>\n",
              "      <td>0.50</td>\n",
              "      <td>0.50</td>\n",
              "      <td>KDeceptiveOneMax</td>\n",
              "      <td>4.0</td>\n",
              "      <td>0.875</td>\n",
              "      <td>596</td>\n",
              "      <td>[0, 1, 1, 0, 0, 1, 1, 0, 0, 1, 0, 0]</td>\n",
              "    </tr>\n",
              "    <tr>\n",
              "      <th>1599</th>\n",
              "      <td>8</td>\n",
              "      <td>0.50</td>\n",
              "      <td>0.50</td>\n",
              "      <td>0.50</td>\n",
              "      <td>KDeceptiveOneMax</td>\n",
              "      <td>6.0</td>\n",
              "      <td>0.875</td>\n",
              "      <td>284</td>\n",
              "      <td>[0, 1, 1, 0, 0, 0, 0, 1, 1, 0, 1, 0]</td>\n",
              "    </tr>\n",
              "  </tbody>\n",
              "</table>\n",
              "<p>1600 rows × 9 columns</p>\n",
              "</div>"
            ],
            "text/plain": [
              "      N    lr  ...  steps                                result\n",
              "0     3  0.01  ...     80  [0, 1, 1, 1, 1, 1, 0, 0, 0, 1, 1, 1]\n",
              "1     3  0.01  ...     47  [1, 1, 1, 0, 1, 1, 0, 1, 0, 0, 1, 1]\n",
              "2     3  0.01  ...    184  [1, 1, 0, 1, 1, 0, 0, 1, 1, 1, 0, 1]\n",
              "3     3  0.01  ...    886  [0, 1, 1, 0, 1, 1, 1, 1, 1, 0, 0, 1]\n",
              "4     3  0.01  ...    282  [1, 1, 1, 1, 1, 0, 1, 0, 1, 0, 0, 1]\n",
              "...  ..   ...  ...    ...                                   ...\n",
              "1595  8  0.50  ...    377  [1, 0, 1, 1, 0, 0, 1, 1, 1, 0, 1, 1]\n",
              "1596  8  0.50  ...     77  [0, 0, 0, 0, 1, 1, 1, 1, 1, 1, 1, 1]\n",
              "1597  8  0.50  ...   1455  [1, 1, 1, 0, 0, 1, 0, 1, 1, 1, 1, 0]\n",
              "1598  8  0.50  ...    596  [0, 1, 1, 0, 0, 1, 1, 0, 0, 1, 0, 0]\n",
              "1599  8  0.50  ...    284  [0, 1, 1, 0, 0, 0, 0, 1, 1, 0, 1, 0]\n",
              "\n",
              "[1600 rows x 9 columns]"
            ]
          },
          "metadata": {},
          "execution_count": 227
        }
      ]
    },
    {
      "cell_type": "code",
      "metadata": {
        "colab": {
          "base_uri": "https://localhost:8080/",
          "height": 419
        },
        "id": "5pgVrmE_nS1w",
        "outputId": "98294266-27e7-4233-fc02-60980dc4c409"
      },
      "source": [
        "df.sort_values(by=['population_score', 'steps'])"
      ],
      "execution_count": 228,
      "outputs": [
        {
          "output_type": "execute_result",
          "data": {
            "text/html": [
              "<div>\n",
              "<style scoped>\n",
              "    .dataframe tbody tr th:only-of-type {\n",
              "        vertical-align: middle;\n",
              "    }\n",
              "\n",
              "    .dataframe tbody tr th {\n",
              "        vertical-align: top;\n",
              "    }\n",
              "\n",
              "    .dataframe thead th {\n",
              "        text-align: right;\n",
              "    }\n",
              "</style>\n",
              "<table border=\"1\" class=\"dataframe\">\n",
              "  <thead>\n",
              "    <tr style=\"text-align: right;\">\n",
              "      <th></th>\n",
              "      <th>N</th>\n",
              "      <th>lr</th>\n",
              "      <th>mutation_ppb</th>\n",
              "      <th>mutation_dist</th>\n",
              "      <th>score_func</th>\n",
              "      <th>k</th>\n",
              "      <th>population_score</th>\n",
              "      <th>steps</th>\n",
              "      <th>result</th>\n",
              "    </tr>\n",
              "  </thead>\n",
              "  <tbody>\n",
              "    <tr>\n",
              "      <th>800</th>\n",
              "      <td>5</td>\n",
              "      <td>0.10</td>\n",
              "      <td>0.01</td>\n",
              "      <td>0.01</td>\n",
              "      <td>OneMax</td>\n",
              "      <td>NaN</td>\n",
              "      <td>0.8</td>\n",
              "      <td>2</td>\n",
              "      <td>[1, 0, 1, 1, 1, 1, 1, 1, 0, 0, 0, 1]</td>\n",
              "    </tr>\n",
              "    <tr>\n",
              "      <th>896</th>\n",
              "      <td>5</td>\n",
              "      <td>0.50</td>\n",
              "      <td>0.01</td>\n",
              "      <td>0.50</td>\n",
              "      <td>DeceptiveOneMax</td>\n",
              "      <td>NaN</td>\n",
              "      <td>0.8</td>\n",
              "      <td>2</td>\n",
              "      <td>[1, 0, 1, 1, 0, 1, 1, 0, 1, 0, 1, 1]</td>\n",
              "    </tr>\n",
              "    <tr>\n",
              "      <th>914</th>\n",
              "      <td>5</td>\n",
              "      <td>0.50</td>\n",
              "      <td>0.05</td>\n",
              "      <td>0.10</td>\n",
              "      <td>KDeceptiveOneMax</td>\n",
              "      <td>6.0</td>\n",
              "      <td>0.8</td>\n",
              "      <td>2</td>\n",
              "      <td>[0, 1, 1, 1, 1, 1, 0, 1, 0, 1, 0, 1]</td>\n",
              "    </tr>\n",
              "    <tr>\n",
              "      <th>887</th>\n",
              "      <td>5</td>\n",
              "      <td>0.50</td>\n",
              "      <td>0.01</td>\n",
              "      <td>0.05</td>\n",
              "      <td>KDeceptiveOneMax</td>\n",
              "      <td>2.0</td>\n",
              "      <td>0.8</td>\n",
              "      <td>3</td>\n",
              "      <td>[1, 1, 1, 0, 0, 1, 1, 1, 1, 0, 0, 1]</td>\n",
              "    </tr>\n",
              "    <tr>\n",
              "      <th>901</th>\n",
              "      <td>5</td>\n",
              "      <td>0.50</td>\n",
              "      <td>0.05</td>\n",
              "      <td>0.01</td>\n",
              "      <td>DeceptiveOneMax</td>\n",
              "      <td>NaN</td>\n",
              "      <td>0.8</td>\n",
              "      <td>3</td>\n",
              "      <td>[1, 0, 1, 1, 1, 1, 1, 0, 0, 0, 1, 1]</td>\n",
              "    </tr>\n",
              "    <tr>\n",
              "      <th>...</th>\n",
              "      <td>...</td>\n",
              "      <td>...</td>\n",
              "      <td>...</td>\n",
              "      <td>...</td>\n",
              "      <td>...</td>\n",
              "      <td>...</td>\n",
              "      <td>...</td>\n",
              "      <td>...</td>\n",
              "      <td>...</td>\n",
              "    </tr>\n",
              "    <tr>\n",
              "      <th>373</th>\n",
              "      <td>4</td>\n",
              "      <td>0.01</td>\n",
              "      <td>0.10</td>\n",
              "      <td>0.10</td>\n",
              "      <td>KDeceptiveOneMax</td>\n",
              "      <td>4.0</td>\n",
              "      <td>1.0</td>\n",
              "      <td>9192</td>\n",
              "      <td>[1, 1, 0, 1, 0, 1, 0, 1, 1, 1, 1, 0]</td>\n",
              "    </tr>\n",
              "    <tr>\n",
              "      <th>392</th>\n",
              "      <td>4</td>\n",
              "      <td>0.01</td>\n",
              "      <td>0.50</td>\n",
              "      <td>0.10</td>\n",
              "      <td>KDeceptiveOneMax</td>\n",
              "      <td>2.0</td>\n",
              "      <td>1.0</td>\n",
              "      <td>9463</td>\n",
              "      <td>[1, 0, 0, 1, 1, 0, 1, 0, 0, 0, 1, 0]</td>\n",
              "    </tr>\n",
              "    <tr>\n",
              "      <th>1419</th>\n",
              "      <td>8</td>\n",
              "      <td>0.05</td>\n",
              "      <td>0.10</td>\n",
              "      <td>0.50</td>\n",
              "      <td>KDeceptiveOneMax</td>\n",
              "      <td>6.0</td>\n",
              "      <td>1.0</td>\n",
              "      <td>10794</td>\n",
              "      <td>[0, 1, 0, 1, 1, 1, 0, 1, 1, 0, 1, 1]</td>\n",
              "    </tr>\n",
              "    <tr>\n",
              "      <th>369</th>\n",
              "      <td>4</td>\n",
              "      <td>0.01</td>\n",
              "      <td>0.10</td>\n",
              "      <td>0.05</td>\n",
              "      <td>KDeceptiveOneMax</td>\n",
              "      <td>6.0</td>\n",
              "      <td>1.0</td>\n",
              "      <td>13460</td>\n",
              "      <td>[0, 1, 0, 1, 1, 1, 1, 0, 1, 0, 1, 1]</td>\n",
              "    </tr>\n",
              "    <tr>\n",
              "      <th>1347</th>\n",
              "      <td>8</td>\n",
              "      <td>0.01</td>\n",
              "      <td>0.50</td>\n",
              "      <td>0.05</td>\n",
              "      <td>KDeceptiveOneMax</td>\n",
              "      <td>2.0</td>\n",
              "      <td>1.0</td>\n",
              "      <td>31479</td>\n",
              "      <td>[1, 1, 1, 1, 1, 0, 1, 0, 1, 0, 0, 1]</td>\n",
              "    </tr>\n",
              "  </tbody>\n",
              "</table>\n",
              "<p>1600 rows × 9 columns</p>\n",
              "</div>"
            ],
            "text/plain": [
              "      N    lr  ...  steps                                result\n",
              "800   5  0.10  ...      2  [1, 0, 1, 1, 1, 1, 1, 1, 0, 0, 0, 1]\n",
              "896   5  0.50  ...      2  [1, 0, 1, 1, 0, 1, 1, 0, 1, 0, 1, 1]\n",
              "914   5  0.50  ...      2  [0, 1, 1, 1, 1, 1, 0, 1, 0, 1, 0, 1]\n",
              "887   5  0.50  ...      3  [1, 1, 1, 0, 0, 1, 1, 1, 1, 0, 0, 1]\n",
              "901   5  0.50  ...      3  [1, 0, 1, 1, 1, 1, 1, 0, 0, 0, 1, 1]\n",
              "...  ..   ...  ...    ...                                   ...\n",
              "373   4  0.01  ...   9192  [1, 1, 0, 1, 0, 1, 0, 1, 1, 1, 1, 0]\n",
              "392   4  0.01  ...   9463  [1, 0, 0, 1, 1, 0, 1, 0, 0, 0, 1, 0]\n",
              "1419  8  0.05  ...  10794  [0, 1, 0, 1, 1, 1, 0, 1, 1, 0, 1, 1]\n",
              "369   4  0.01  ...  13460  [0, 1, 0, 1, 1, 1, 1, 0, 1, 0, 1, 1]\n",
              "1347  8  0.01  ...  31479  [1, 1, 1, 1, 1, 0, 1, 0, 1, 0, 0, 1]\n",
              "\n",
              "[1600 rows x 9 columns]"
            ]
          },
          "metadata": {},
          "execution_count": 228
        }
      ]
    }
  ]
}